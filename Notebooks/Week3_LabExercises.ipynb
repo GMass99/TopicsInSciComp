{
 "cells": [
  {
   "cell_type": "markdown",
   "id": "8677fe39",
   "metadata": {},
   "source": [
    "## Week 3 Lab exercises\n",
    "\n",
    "In this week we will explore the concept of object oreinted programming (OOP) with classes, and the numerical solution of simple non linear ordinary differential equations (ODEs). "
   ]
  },
  {
   "cell_type": "code",
   "execution_count": 2,
   "id": "0d8bde64",
   "metadata": {},
   "outputs": [],
   "source": [
    "# first we import the libraries we need\n",
    "import numpy as np\n",
    "import matplotlib.pyplot as plt\n",
    "\n",
    "# The following lines makes the plots appear inline in the notebook\n",
    "%matplotlib inline"
   ]
  },
  {
   "cell_type": "markdown",
   "id": "2b399aad",
   "metadata": {},
   "source": [
    "### ACTIVITY 1: \n",
    "I have written a class below for a Point object, which encapsulates the idea of a point and things we might want to do to it. \n",
    "\n",
    "Here you will write another class object for a Rectangle. You should consider and implement the following points:\n",
    "\n",
    "1. What is the minimum information that is needed to fully describe a rectangle and its position in space? Assume for simplicity that its edges are aligned with the x and y axes.\n",
    "\n",
    "2. Implement functions to:\n",
    "\n",
    "    a. reflect the rectangle in the x and y axes\n",
    "    \n",
    "    b. grow the rectangle by an amount in x and y with the bottom left corner fixed\n",
    "    \n",
    "    c. grow the rectangle by an amount in x and y with the top right corner fixed\n",
    "    \n",
    "    d. plot the rectangle\n",
    "\n",
    "\n",
    "3. What should be checked here? Can you add some asserts? Do you need to test the functions?\n",
    "\n",
    "4. Would some of the methods needed make more sense to be implemented in the Points class instead of the Rectangle class? If so go ahead and edit it!"
   ]
  },
  {
   "cell_type": "code",
   "execution_count": 3,
   "id": "2bceae51",
   "metadata": {},
   "outputs": [
    {
     "name": "stdout",
     "output_type": "stream",
     "text": [
      "Point  P is 1.0 2.0\n",
      "Point  Q is 4.0 7.5\n",
      "Point  R is 5.0 9.5\n",
      "Distance is  6.264982043070834\n",
      "42\n"
     ]
    },
    {
     "data": {
      "image/png": "[encoded data removed]",
      "text/plain": [
       "<Figure size 640x480 with 1 Axes>"
      ]
     },
     "metadata": {},
     "output_type": "display_data"
    }
   ],
   "source": [
    "# Points class\n",
    "\n",
    "class Point :\n",
    "    \"\"\"\n",
    "    Represents a point in a 2D space\n",
    "    \n",
    "    attributes: x, y, name\n",
    "    \n",
    "    \"\"\"\n",
    "    \n",
    "    # constructor function\n",
    "    # The double underscores indicate a private method or variable\n",
    "    # not to be accessed outside the class (in principle)\n",
    "    def __init__(self, x=0.0, y=0.0, name = \"\"):\n",
    "        self.x = x\n",
    "        self.y = y\n",
    "        self.name = name\n",
    "        self.__private_variable = 42\n",
    "        \n",
    "    def __add__(self, other) :\n",
    "        new_point = Point(self.x+other.x, self.y+other.y)\n",
    "        return new_point\n",
    "    \n",
    "    def print_point(self) :\n",
    "        print(\"Point \", self.name, \"is\", self.x, self.y)\n",
    "        \n",
    "    # Note that we don't use self here so don't need to pass it in\n",
    "    # (This is a static function - it does not require an instance of the class)\n",
    "    def calculate_distance_between_two_points(A, B) :\n",
    "        return np.sqrt((A.x - B.x)**2.0 + (A.y - B.y)**2.0)\n",
    "    \n",
    "    def move_point(self,dx,dy) :\n",
    "        self.x += dx\n",
    "        self.y += dy\n",
    "        \n",
    "    def plot_point(self, ax) :\n",
    "        ax.plot(self.x, self.y, 'o', label=self.name)\n",
    "        \n",
    "    def update_name(self, new_name) :\n",
    "        self.name = new_name\n",
    "        \n",
    "        \n",
    "# Some examples of using the Points class\n",
    "first_point = Point(1.0,2.0,\"P\")\n",
    "first_point.print_point()\n",
    "\n",
    "second_point = Point(3.0,5.5,\"Q\")\n",
    "second_point.move_point(1.0, 2.0)\n",
    "second_point.print_point()\n",
    "\n",
    "third_point = first_point + second_point\n",
    "third_point.update_name(\"R\")\n",
    "third_point.print_point()\n",
    "\n",
    "# Use the static function\n",
    "distance = Point.calculate_distance_between_two_points(first_point,second_point)\n",
    "print(\"Distance is \", distance)\n",
    "\n",
    "plt.plot()\n",
    "plt.grid()\n",
    "plt.xlabel(\"x position\")\n",
    "plt.ylabel(\"y position\")\n",
    "ax = plt.gcf().gca()\n",
    "first_point.plot_point(ax)\n",
    "second_point.plot_point(ax)\n",
    "third_point.plot_point(ax)\n",
    "plt.legend()\n",
    "\n",
    "# Try to access the private variable, even though you shouldn't\n",
    "#print(first_point.__private_variable) # This won't work - try uncommenting it\n",
    "print(first_point._Point__private_variable) # This will\n",
    "\n",
    "# Can get info on the new class - uncomment to see this\n",
    "# Point?"
   ]
  },
  {
   "cell_type": "code",
   "execution_count": 12,
   "id": "0c6bb38e",
   "metadata": {},
   "outputs": [
    {
     "name": "stdout",
     "output_type": "stream",
     "text": [
      "Rectangle Kevin is defined by bottom left point ( 1.0 , 2.0 ) and top right point ( 3.0 , 5.5 )\n",
      "Rectangle has reflected in the x axis and is now at points ( 1.0 , -5.5 ) ( 3.0 , -2.0 )\n",
      "Rectangle has reflected in the y axis and is now at points ( -3.0 , -5.5 ) ( -1.0 , -2.0 )\n",
      "Rectangle has been scaled with the bottom left corner fixed by scaling factor 3.0 leaving the rectangle at points ( -3.0 , -5.5 ) ( -3.0 , -6.0 )\n",
      "Rectangle has been scaled with the top right corner fixed by scaling factor 2.0 leaving the rectangle at points ( 6.0 , 11.0 ) ( -3.0 , -6.0 )\n"
     ]
    },
    {
     "data": {
      "text/plain": [
       "<matplotlib.legend.Legend at 0x21b87c34070>"
      ]
     },
     "execution_count": 12,
     "metadata": {},
     "output_type": "execute_result"
    },
    {
     "data": {
      "image/png": "[encoded data removed]",
      "text/plain": [
       "<Figure size 640x480 with 1 Axes>"
      ]
     },
     "metadata": {},
     "output_type": "display_data"
    }
   ],
   "source": [
    "# Rectangle class\n",
    "\n",
    "class Rectangle :\n",
    "    \"\"\"\n",
    "    Represents a rectangle, defined by its bottom right point and its top left point\n",
    "\n",
    "    Assumes the sides are aligned with the x and y axis \n",
    "    \n",
    "    attributes: bottom_left_point, top_right_point\n",
    "\n",
    "    Methods:\n",
    "        Print point \n",
    "        a. reflect the rectangle in the x and y axes\n",
    "        b. grow the rectangle by an amount in x and y with the bottom left corner fixed\n",
    "        c. grow the rectangle by an amount in x and y with the top right corner fixed\n",
    "        d. plot the rectangle\n",
    "    \n",
    "    \"\"\"\n",
    "    \n",
    "    # constructor function\n",
    "\n",
    "    def __init__(self, bottom_left_point = Point(), top_right_point = Point(), name = \"\"):\n",
    "        self.bottom_left_point = bottom_left_point\n",
    "        self.top_right_point = top_right_point\n",
    "        self.name = name\n",
    "\n",
    "    def print_rectangle(self):\n",
    "        print('Rectangle', self.name, 'is defined by bottom left point (',\n",
    "              self.bottom_left_point.x, ',',self.bottom_left_point.y,') and top right point ('\n",
    "              ,self.top_right_point.x,',',self.top_right_point.y, ')')\n",
    "\n",
    "    def reflect_rectangle(self, axis = 'x'):\n",
    "        if axis == 'x':\n",
    "            old_bottom_left_y_point = self.bottom_left_point.y\n",
    "            old_top_right_y_point = self.top_right_point.y\n",
    "            self.top_right_point.y = -old_bottom_left_y_point\n",
    "            self.bottom_left_point.y = -old_top_right_y_point \n",
    "        elif axis == 'y':\n",
    "            old_bottom_left_x_point = self.bottom_left_point.x\n",
    "            old_top_right_x_point = self.top_right_point.x\n",
    "            self.top_right_point.x = -old_bottom_left_x_point\n",
    "            self.bottom_left_point.x = -old_top_right_x_point\n",
    "        else:\n",
    "            assert False, 'You must reflect in either the x or y axis!'\n",
    "        print('Rectangle has reflected in the', axis, 'axis and is now at points (',self.bottom_left_point.x,',', \n",
    "              self.bottom_left_point.y,')','(', self.top_right_point.x,',', self.top_right_point.y,')')\n",
    "\n",
    "\n",
    "    def scale_rectangle_with_bottom_left_corner_fixed(self, scaling_factor):\n",
    "        self.top_right_point.x = self.top_right_point.x * scaling_factor\n",
    "        self.top_right_point.y = self.top_right_point.y * scaling_factor\n",
    "        print('Rectangle has been scaled with the bottom left corner fixed by scaling factor', scaling_factor, 'leaving the rectangle at points', '(',\n",
    "              self.bottom_left_point.x, ',',self.bottom_left_point.y,')','(',self.top_right_point.x,',', self.top_right_point.y,')')\n",
    "    \n",
    "    def scale_rectangle_with_top_right_corner_fixed(self, scaling_factor):\n",
    "        self.bottom_left_point.x = self.bottom_left_point.x * -scaling_factor\n",
    "        self.bottom_left_point.y = self.bottom_left_point.y * -scaling_factor\n",
    "        print('Rectangle has been scaled with the top right corner fixed by scaling factor', scaling_factor, 'leaving the rectangle at points', '(',\n",
    "              self.bottom_left_point.x, ',',self.bottom_left_point.y,')','(',self.top_right_point.x,',', self.top_right_point.y,')')\n",
    "    \n",
    "    def plot_rectangle(self, ax, rectangle_label = ''):\n",
    "        x_points = np.array([self.bottom_left_point.x, self.bottom_left_point.x,\n",
    "                             self.top_right_point.x,   self.top_right_point.x,\n",
    "                             self.bottom_left_point.x])\n",
    "        \n",
    "        y_points = np.array([self.bottom_left_point.y, self.top_right_point.y,\n",
    "                             self.top_right_point.y,   self.bottom_left_point.y,\n",
    "                             self.bottom_left_point.y])\n",
    "        \n",
    "        ax.plot(x_points, y_points, '-', label=rectangle_label)\n",
    "\n",
    "#Test\n",
    "first_point = Point(1.0,2.0,\"P\")\n",
    "second_point = Point(3.0,5.5,\"Q\")\n",
    "my_rectangle = Rectangle(first_point,second_point,\"Kevin\")\n",
    "my_rectangle.print_rectangle()\n",
    "\n",
    "\n",
    "plt.plot()\n",
    "plt.grid()\n",
    "plt.xlabel(\"x position\")\n",
    "plt.ylabel(\"y position\")\n",
    "ax = plt.gcf().gca()\n",
    "my_rectangle.plot_rectangle(ax,\"my_rectangle\")\n",
    "ax.set_aspect('equal')\n",
    "\n",
    "my_rectangle.reflect_rectangle(axis = 'x')\n",
    "my_rectangle.plot_rectangle(ax,'My rectangle reflected in the x axis')\n",
    "my_rectangle.reflect_rectangle(axis = 'y')\n",
    "my_rectangle.plot_rectangle(ax,'My rectangle reflected in the y axis')\n",
    "my_rectangle.scale_rectangle_with_bottom_left_corner_fixed(3.0)\n",
    "my_rectangle.plot_rectangle(ax,'My rectangle scaled with the bottom left corner fixed')\n",
    "my_rectangle.scale_rectangle_with_top_right_corner_fixed(2.0)\n",
    "my_rectangle.plot_rectangle(ax,'My rectangle scaled with the top right corner fixed')\n",
    "\n",
    "plt.legend(bbox_to_anchor=(1.05, 0.5))\n",
    "        \n",
    "            \n",
    "\n"
   ]
  },
  {
   "cell_type": "markdown",
   "id": "03a04402",
   "metadata": {},
   "source": [
    "### ACTIVITY 2: \n",
    "\n",
    "Now create a Square class that has the same functionality as the rectangle class, but that in addition has the ability to calculate its own area. You are not allowed to modify the Rectangle class.\n",
    "\n",
    "_HINT: Do you really need to write a whole new function from scratch? What about inheritance?_\n"
   ]
  },
  {
   "cell_type": "code",
   "execution_count": 10,
   "id": "dc06a2ad",
   "metadata": {},
   "outputs": [
    {
     "ename": "IndentationError",
     "evalue": "unexpected indent (4012323805.py, line 6)",
     "output_type": "error",
     "traceback": [
      "\u001b[1;36m  Cell \u001b[1;32mIn[10], line 6\u001b[1;36m\u001b[0m\n\u001b[1;33m    def __init__(self, bottom_left_point = Point(), top_right_point = Point()):\u001b[0m\n\u001b[1;37m    ^\u001b[0m\n\u001b[1;31mIndentationError\u001b[0m\u001b[1;31m:\u001b[0m unexpected indent\n"
     ]
    }
   ],
   "source": [
    "# Square class\n",
    "\n",
    "# UPDATE ME\n",
    "    # The double underscores indicate a private method or variable\n",
    "    # not to be accessed outside the class (in principle)\n",
    "    def __init__(self, bottom_left_point = Point(), top_right_point = Point()):\n",
    "        self.bottom_left_point = bottom_left_point\n",
    "        self.top_right_point = top_right_point\n",
    "        self.check.rectangle()\n",
    "\n",
    "    def print_rectangle(self):\n",
    "        print('Rectangle is defined by the points:')\n",
    "        bottom_left_point.print_point()\n",
    "        top_right_point.print_point()\n",
    "\n",
    "    def reflect_rectangle_about_axis(self,axis = 'x'):\n",
    "        self.bottom_left_point.reflect_point_about_axis(axis)\n",
    "        self.top_right_point.reflect_point_about_axis(axis)\n",
    "        if axis == 'x':\n",
    "            # swap y values before flipping\n",
    "            old_bottom_y = self.bottom_left_point.y\n",
    "            old_top_y = self.top_right_point.y\n",
    "            self.bottom_left_point.y = old_top_y\n",
    "            self.top_right_point.y = old_bottom_y\n",
    "        elif axis =='y':\n",
    "            # swap x values before flipping\n",
    "            old_bottom_x = self.bottom_left_point.x\n",
    "            old_top_x = self.top_right_point.x\n",
    "            self.bottom_left_point.x = old_top_x\n",
    "            self.top_right_point.x = old_bottom_x\n",
    "        else:\n",
    "            assert False, 'Invalid choice of axis, must be x or y'\n",
    "            \n",
    "    def grow_rectangle_from_corner(self, dx, dy, moved_corner='top_right'):\n",
    "        if moved_corner == 'top_right':\n",
    "            self.top_right_point = self.top_right_point.move_point(dx,dy)\n",
    "        elif moved_corner == 'bottom_left':\n",
    "            self.bottom_left_point = self.bottom_left_point.move_point(-dx,-dy)\n",
    "        else:\n",
    "            assert False, 'You must move either the top_right or bottom_left corners!'\n",
    "\n",
    "    def plot_rectangle(self, ax, rectangle_label= ''):\n",
    "        x_points = np.array([self.bottom_left_point.x, self.bottom_left_point.x,\n",
    "                             self.top_right_point.x,   self.top_right_point.x,\n",
    "                             self.bottom_left_point.x])\n",
    "        \n",
    "        y_points = np.array([self.bottom_left_point.y, self.top_right_point.y,\n",
    "                             self.top_right_point.y,   self.bottom_left_point.y,\n",
    "                             self.bottom_left_point.y])\n",
    "        \n",
    "        ax.plot(x_points, y_points, '-', label=rectangle_label)\n",
    "\n",
    "    def check_rectangle(self):\n",
    "        assert self.bottom_left_point.x < self.top_right_point.x, 'bottom left point must have a lower x coordinate than the top right point'\n",
    "        assert self.bottom_left_point.y < self.top_right_point.y, 'bottom left point must have a lower y coordinate than the top right point'"
   ]
  },
  {
   "cell_type": "markdown",
   "id": "14b33155",
   "metadata": {},
   "source": [
    "### ACTIVITY 3:\n",
    "\n",
    "Now we wil consider a simpled coupled ODEs: the Lotka-Volterra equations describe predator-prey relations, where some species $x$ (e.g. a fox) eats another species $y$ (e.g. rabbits), and each population grows by breeding at a rate proportional to its number. The resulting evolution is described by the following first order, autonomous, non linear, coupled system of ordinary differential equations:\n",
    "\n",
    "$\\frac{dx}{dt} = ax - bxy$\n",
    "\n",
    "$\\frac{dy}{dt} = -cy + dxy$\n",
    "\n",
    "What parts or features of the differential equation tell us that it is:\n",
    "1. First order\n",
    "2. Autonomous\n",
    "3. Non linear\n",
    "4. Coupled \n",
    "\n",
    "?"
   ]
  },
  {
   "cell_type": "markdown",
   "id": "bf508678",
   "metadata": {},
   "source": [
    "Answers: ... UPDATE ME!"
   ]
  },
  {
   "cell_type": "markdown",
   "id": "d787ce7d",
   "metadata": {},
   "source": [
    "### ACTIVITY 4:\n",
    "\n",
    "The following code solves the Logistic Equation \n",
    "\n",
    "$\\frac{dy}{dt} = y (1 - y)$\n",
    "\n",
    "Using a simple explicit integration and the scipy function solve_ivp() which used Runge-Kutta 4th/5th order time integration. Copy it and update it to solve instead the Lotka-Volterra equations. \n",
    "\n",
    "Note the following:\n",
    "\n",
    "1. Why do I substract delta_t when calculating the vector of t_solution points?\n",
    "2. the solve_ivp method uses the labels t and y for the independent and dependent variables. The y value is assumed to be a vector, allowing you to solve for multiple dependent variables at once, e.g. you can make it np.array([x,y])"
   ]
  },
  {
   "cell_type": "code",
   "execution_count": 120,
   "id": "2f5fb331",
   "metadata": {},
   "outputs": [
    {
     "data": {
      "image/png": "[encoded data removed]",
      "text/plain": [
       "<Figure size 432x288 with 1 Axes>"
      ]
     },
     "metadata": {
      "needs_background": "light"
     },
     "output_type": "display_data"
    }
   ],
   "source": [
    "# Solve the 1d logistic equation from class\n",
    "from scipy.integrate import solve_ivp\n",
    "\n",
    "# Note that the function has to take t as the first argument and y as the second\n",
    "def calculate_logistic_dydt(t, y):\n",
    "    \"\"\"Returns the gradient dx/dt for the logistic equation\"\"\"\n",
    "    dydt = y*(1 - y)\n",
    "    return dydt\n",
    "\n",
    "max_time = 10.0\n",
    "N_time_steps = 25\n",
    "delta_t = max_time / N_time_steps\n",
    "t_solution = np.linspace(0.0, max_time-delta_t, N_time_steps) # values of independent variable \n",
    "y0 = np.array([0.5]) # an initial condition, y(0) = y0, note it needs to be an array\n",
    "\n",
    "solution = solve_ivp(calculate_logistic_dydt, [0,max_time], y0,\n",
    "                        method='RK45', t_eval=t_solution)\n",
    " \n",
    "plt.grid()\n",
    "plt.xlabel(\"t\", fontsize=16)\n",
    "plt.ylabel(\"y\", fontsize=16) \n",
    "plt.plot(solution.t, solution.y[0], 'o', label=\"solve_ivp\")\n",
    "\n",
    "# Now do it the \"cheap\" way \n",
    "# increase the number of steps to see how the solution changes\n",
    "y_solution = np.zeros_like(t_solution)\n",
    "y_solution[0] = y0\n",
    "for itime, time in enumerate(t_solution) :\n",
    "    if itime > 0 :\n",
    "        dydt = calculate_logistic_dydt(time, y_solution[itime-1])\n",
    "        y_solution[itime] = y_solution[itime-1] + dydt * delta_t\n",
    "    \n",
    "plt.plot(t_solution, y_solution, '-.',label=\"cheap method\")\n",
    "\n",
    "# Now plot the true solution\n",
    "A = 1.0/y0 - 1.0\n",
    "y_true = 1.0 / (1.0 + A * np.exp(-t_solution))\n",
    "plt.plot(t_solution, y_true, '-', label=\"true solution\")\n",
    "plt.legend(loc='best');"
   ]
  },
  {
   "cell_type": "code",
   "execution_count": 117,
   "id": "f9a6cc6f",
   "metadata": {},
   "outputs": [],
   "source": [
    "# Your solution here for the predator-prey equations !\n",
    "\n",
    "# UPDATE ME!"
   ]
  },
  {
   "cell_type": "markdown",
   "id": "fc8f692b",
   "metadata": {},
   "source": [
    "### ACTIVITY 5:\n",
    "\n",
    "Find the equilibrium value of rabbits and foxes such that you do not get oscillations.\n",
    "\n",
    "_HINT: You can do this by trying different initial values of the rabbits and foxes, but it may help to also plot the solutions of x versus y for different values of the initial conditions and identify if there is a trend_"
   ]
  },
  {
   "cell_type": "code",
   "execution_count": 118,
   "id": "2478e15e",
   "metadata": {},
   "outputs": [],
   "source": [
    "# Plot some solutions of x versus y\n",
    "\n",
    "# HINT: plt.plot(solution.y[0], solution.y[1], '--', label=\"x0, y0 = ??\")"
   ]
  },
  {
   "cell_type": "markdown",
   "id": "610c8870",
   "metadata": {},
   "source": [
    "### ACTIVITY 6:\n",
    "\n",
    "If you double the resolution in the simple integrator, what happens to the error in the solution compared to solve_ivp? Why? How could you improve this behaviour?"
   ]
  },
  {
   "cell_type": "code",
   "execution_count": 119,
   "id": "8c88c564",
   "metadata": {},
   "outputs": [],
   "source": [
    "# Compare the errors here\n",
    "\n",
    "# HINT: plt.plot(solution.t, solution.y[0] - y_solution, '--', label=\"error versus solve_ivp, dt = ??\")"
   ]
  },
  {
   "cell_type": "markdown",
   "id": "058d6f9b",
   "metadata": {},
   "source": [
    "### ACTIVITY 7:\n",
    "\n",
    "The predator - prey equations have been cast above in a _functional coding_ style. Can you imagine a way to cast them in a more OOP way?\n",
    "\n",
    "_HINT: There are several ways this could be done, but consider writing an Ecosystem class - what would be the attributes and methods that would live in such a class?_\n",
    "\n",
    "OPTIONAL: Implement it!"
   ]
  },
  {
   "cell_type": "markdown",
   "id": "2f40159e",
   "metadata": {},
   "source": [
    "A: UPDATE ME!"
   ]
  },
  {
   "cell_type": "code",
   "execution_count": 24,
   "id": "70494bc6",
   "metadata": {},
   "outputs": [],
   "source": [
    "# Implementation of the Ecosystem class (OPTIONAL)\n"
   ]
  }
 ],
 "metadata": {
  "kernelspec": {
   "display_name": "Python 3 (ipykernel)",
   "language": "python",
   "name": "python3"
  },
  "language_info": {
   "codemirror_mode": {
    "name": "ipython",
    "version": 3
   },
   "file_extension": ".py",
   "mimetype": "text/x-python",
   "name": "python",
   "nbconvert_exporter": "python",
   "pygments_lexer": "ipython3",
   "version": "3.9.18"
  }
 },
 "nbformat": 4,
 "nbformat_minor": 5
}
